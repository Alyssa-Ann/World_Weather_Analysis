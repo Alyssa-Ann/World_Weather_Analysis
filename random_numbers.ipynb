{
 "cells": [
  {
   "cell_type": "code",
   "execution_count": 1,
   "id": "e5445314",
   "metadata": {},
   "outputs": [],
   "source": [
    "#import the random module\n",
    "import random"
   ]
  },
  {
   "cell_type": "code",
   "execution_count": 3,
   "id": "3136740c",
   "metadata": {},
   "outputs": [
    {
     "data": {
      "text/plain": [
       "-47"
      ]
     },
     "execution_count": 3,
     "metadata": {},
     "output_type": "execute_result"
    }
   ],
   "source": [
    "random.randint(-90, 90)"
   ]
  },
  {
   "cell_type": "code",
   "execution_count": 5,
   "id": "d4c45d1e",
   "metadata": {},
   "outputs": [
    {
     "data": {
      "text/plain": [
       "0.24003042297098176"
      ]
     },
     "execution_count": 5,
     "metadata": {},
     "output_type": "execute_result"
    }
   ],
   "source": [
    "random.random()"
   ]
  },
  {
   "cell_type": "code",
   "execution_count": 6,
   "id": "cadc2bee",
   "metadata": {},
   "outputs": [
    {
     "data": {
      "text/plain": [
       "50.14720225642033"
      ]
     },
     "execution_count": 6,
     "metadata": {},
     "output_type": "execute_result"
    }
   ],
   "source": [
    "random_number = random.randint(-90, 89) + random.random()\n",
    "random_number"
   ]
  },
  {
   "cell_type": "code",
   "execution_count": 8,
   "id": "476c95e6",
   "metadata": {},
   "outputs": [
    {
     "data": {
      "text/plain": [
       "[23.699046042470584,\n",
       " -78.16122404853235,\n",
       " 89.99967751848948,\n",
       " 30.358802887241133,\n",
       " 71.38591264902755,\n",
       " 73.5073938938661,\n",
       " -70.7360780854258,\n",
       " -57.355485315555306,\n",
       " -28.56035445905411,\n",
       " 84.62601871858284]"
      ]
     },
     "execution_count": 8,
     "metadata": {},
     "output_type": "execute_result"
    }
   ],
   "source": [
    "x = 1\n",
    "latitudes = []\n",
    "while x < 11:\n",
    "    random_lat = random.randint(-90, 89) + random.random()\n",
    "    latitudes.append(random_lat)\n",
    "    x += 1\n",
    "latitudes"
   ]
  },
  {
   "cell_type": "code",
   "execution_count": 9,
   "id": "2273d270",
   "metadata": {},
   "outputs": [
    {
     "data": {
      "text/plain": [
       "-57"
      ]
     },
     "execution_count": 9,
     "metadata": {},
     "output_type": "execute_result"
    }
   ],
   "source": [
    "random.randrange(-90, 90, step=1)"
   ]
  },
  {
   "cell_type": "code",
   "execution_count": 10,
   "id": "8be6d61e",
   "metadata": {},
   "outputs": [
    {
     "data": {
      "text/plain": [
       "-84"
      ]
     },
     "execution_count": 10,
     "metadata": {},
     "output_type": "execute_result"
    }
   ],
   "source": [
    "random.randrange(-90, 90, step=3)"
   ]
  },
  {
   "cell_type": "code",
   "execution_count": 11,
   "id": "4dd40971",
   "metadata": {},
   "outputs": [
    {
     "data": {
      "text/plain": [
       "-72.51662037974594"
      ]
     },
     "execution_count": 11,
     "metadata": {},
     "output_type": "execute_result"
    }
   ],
   "source": [
    "random.uniform(-90, 90)"
   ]
  },
  {
   "cell_type": "code",
   "execution_count": 12,
   "id": "53628bd0",
   "metadata": {},
   "outputs": [],
   "source": [
    "# Import the NumPy module.\n",
    "import numpy as np"
   ]
  },
  {
   "cell_type": "code",
   "execution_count": 13,
   "id": "bf746b0b",
   "metadata": {},
   "outputs": [
    {
     "data": {
      "text/plain": [
       "23.51246608762203"
      ]
     },
     "execution_count": 13,
     "metadata": {},
     "output_type": "execute_result"
    }
   ],
   "source": [
    "np.random.uniform(-90.000, 90.000)"
   ]
  },
  {
   "cell_type": "code",
   "execution_count": 14,
   "id": "a2f6b5d4",
   "metadata": {},
   "outputs": [
    {
     "data": {
      "text/plain": [
       "68.74582696493079"
      ]
     },
     "execution_count": 14,
     "metadata": {},
     "output_type": "execute_result"
    }
   ],
   "source": [
    "np.random.uniform(low=-90, high=90)"
   ]
  },
  {
   "cell_type": "code",
   "execution_count": 19,
   "id": "1b73ce96",
   "metadata": {},
   "outputs": [
    {
     "data": {
      "text/plain": [
       "array([-42.77447086, -66.48781354, -30.11408482,  -2.24536507,\n",
       "         1.80249807,  80.70637782, -28.13196798,  74.09121086,\n",
       "        49.38359013, -84.7307675 ,  68.19868905, -22.24772347,\n",
       "        75.00638757,  64.39415271,  -3.43805445, -82.33986828,\n",
       "        -3.7518696 ,  -7.73010647,  44.35120961,  55.67017181,\n",
       "       -75.12857727,  12.88175621,  -0.88408655,  -2.02544321,\n",
       "       -50.05707961, -55.4252513 , -13.9486261 ,  33.9043063 ,\n",
       "        83.09078931,  28.97911427, -17.1998424 ,  36.16224179,\n",
       "        70.17610267,  83.11070002, -62.87428175,  58.73002   ,\n",
       "       -83.14898717,  20.6216377 ,  83.79137898,  -2.87158051,\n",
       "       -79.91311148,  -3.46268125,  11.80913211, -17.07524717,\n",
       "        10.72640641,  80.07812308, -39.84024235, -57.34208909,\n",
       "       -40.93448113,  62.85568278])"
      ]
     },
     "execution_count": 19,
     "metadata": {},
     "output_type": "execute_result"
    }
   ],
   "source": [
    "np.random.uniform(-90.000, 90.000, size=50)"
   ]
  },
  {
   "cell_type": "code",
   "execution_count": 20,
   "id": "dbbe6a28",
   "metadata": {},
   "outputs": [],
   "source": [
    "# Import timeit.\n",
    "import timeit"
   ]
  },
  {
   "cell_type": "code",
   "execution_count": 21,
   "id": "186c047f",
   "metadata": {},
   "outputs": [
    {
     "name": "stdout",
     "output_type": "stream",
     "text": [
      "14.6 µs ± 39.2 ns per loop (mean ± std. dev. of 7 runs, 100000 loops each)\n"
     ]
    }
   ],
   "source": [
    "%timeit np.random.uniform(-90.000, 90.000, size=1500)"
   ]
  },
  {
   "cell_type": "code",
   "execution_count": null,
   "id": "36e7d7aa",
   "metadata": {},
   "outputs": [],
   "source": [
    "def latitudes(size):\n",
    "    latitudes = []\n",
    "    x = 0\n",
    "    while x < (size):\n",
    "        random_lat = random.randint(-90, 90) + random.random()\n",
    "        latitudes.append(random_lat)\n",
    "        x += 1\n",
    "    return latitudes\n",
    "# Call the function with 1500.\n",
    "%timeit latitudes(1500)"
   ]
  },
  {
   "cell_type": "code",
   "execution_count": null,
   "id": "04bf4ba8",
   "metadata": {},
   "outputs": [],
   "source": []
  }
 ],
 "metadata": {
  "kernelspec": {
   "display_name": "PythonData",
   "language": "python",
   "name": "pythondata"
  },
  "language_info": {
   "codemirror_mode": {
    "name": "ipython",
    "version": 3
   },
   "file_extension": ".py",
   "mimetype": "text/x-python",
   "name": "python",
   "nbconvert_exporter": "python",
   "pygments_lexer": "ipython3",
   "version": "3.7.10"
  }
 },
 "nbformat": 4,
 "nbformat_minor": 5
}
